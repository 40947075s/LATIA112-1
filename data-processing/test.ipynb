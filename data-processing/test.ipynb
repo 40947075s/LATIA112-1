{
 "cells": [
  {
   "cell_type": "code",
   "execution_count": 3,
   "id": "38c82ee0-fbc1-442d-b865-e9e6afbd1def",
   "metadata": {},
   "outputs": [],
   "source": [
    "# import packages\n",
    "import numpy as np\n",
    "import pandas as pd\n",
    "import matplotlib.pyplot as plt"
   ]
  },
  {
   "cell_type": "code",
   "execution_count": 5,
   "id": "64b89b5f-c904-4c74-b37f-b65ebe4cf99d",
   "metadata": {},
   "outputs": [],
   "source": [
    "# 讀取csv檔案\n",
    "data = pd.read_csv(\"graduatesc.csv\")\n",
    "\n",
    "# 以0填補缺失值\n",
    "data = data.replace(\" -\", 0)\n",
    "\n",
    "# Q1: 各細學類系所數量表\n",
    "category_counts = data[\"細學類名稱\"].value_counts()\n",
    "category_counts_df = pd.DataFrame(\n",
    "    {\"細學類名稱\": category_counts.index, \"系所數量\": category_counts.values}\n",
    ")\n",
    "category_counts_df = category_counts_df.sort_values(by=\"系所數量\", ascending=False)\n",
    "\n",
    "category_counts_df.to_csv(\"各細學類系所數量表.csv\", index=False, encoding=\"big5\")"
   ]
  },
  {
   "cell_type": "code",
   "execution_count": null,
   "id": "744b8a1e-06e4-4fce-9eb1-3d56fefd111c",
   "metadata": {},
   "outputs": [],
   "source": []
  }
 ],
 "metadata": {
  "kernelspec": {
   "display_name": "Python 3 (ipykernel)",
   "language": "python",
   "name": "python3"
  },
  "language_info": {
   "codemirror_mode": {
    "name": "ipython",
    "version": 3
   },
   "file_extension": ".py",
   "mimetype": "text/x-python",
   "name": "python",
   "nbconvert_exporter": "python",
   "pygments_lexer": "ipython3",
   "version": "3.10.12"
  }
 },
 "nbformat": 4,
 "nbformat_minor": 5
}
